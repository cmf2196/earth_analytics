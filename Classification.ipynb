{
 "cells": [
  {
   "cell_type": "markdown",
   "metadata": {},
   "source": [
    "# Supervised Machine Learning ~ Pixel-wise Classification of NYC Water\n",
    "Author: Connor Finn <br>\n",
    "Date: June 18, 2020 <br>\n",
    "Description: <dir>\n",
    "    This script will perform classification on images of the Greater NYC area in order to distinguish between water and land pixels. The ground truth data was provided by Dr. Narayanaswamy, who detailed polygons of land and water in Google Earth, and stored these regions as json files. To use this notebook, please store these files in known locations in your working environment. <br>\n",
    "\n",
    "    \n",
    "References: To develop this code, I referenced Arvind's classification notebook as well as the Google ee [documentation](https://developers.google.com/earth-engine/classification)\n",
    "    \n",
    "    \n"
   ]
  },
  {
   "cell_type": "markdown",
   "metadata": {},
   "source": [
    "# Part 1: Set UP"
   ]
  },
  {
   "cell_type": "markdown",
   "metadata": {},
   "source": [
    "### 1a. Initialize google earth engine"
   ]
  },
  {
   "cell_type": "code",
   "execution_count": 1,
   "metadata": {},
   "outputs": [
    {
     "data": {
      "text/html": [
       "<p>To authorize access needed by Earth Engine, open the following\n",
       "        URL in a web browser and follow the instructions:</p>\n",
       "        <p><a href=https://accounts.google.com/o/oauth2/auth?client_id=517222506229-vsmmajv00ul0bs7p89v5m89qs8eb9359.apps.googleusercontent.com&scope=https%3A%2F%2Fwww.googleapis.com%2Fauth%2Fearthengine+https%3A%2F%2Fwww.googleapis.com%2Fauth%2Fdevstorage.full_control&redirect_uri=urn%3Aietf%3Awg%3Aoauth%3A2.0%3Aoob&response_type=code&code_challenge=lmFdtltQlyXRTGb9esj-9roI9Xer3nSfG2nWftSl1pM&code_challenge_method=S256>https://accounts.google.com/o/oauth2/auth?client_id=517222506229-vsmmajv00ul0bs7p89v5m89qs8eb9359.apps.googleusercontent.com&scope=https%3A%2F%2Fwww.googleapis.com%2Fauth%2Fearthengine+https%3A%2F%2Fwww.googleapis.com%2Fauth%2Fdevstorage.full_control&redirect_uri=urn%3Aietf%3Awg%3Aoauth%3A2.0%3Aoob&response_type=code&code_challenge=lmFdtltQlyXRTGb9esj-9roI9Xer3nSfG2nWftSl1pM&code_challenge_method=S256</a></p>\n",
       "        <p>The authorization workflow will generate a code, which you\n",
       "        should paste in the box below</p>\n",
       "        "
      ],
      "text/plain": [
       "<IPython.core.display.HTML object>"
      ]
     },
     "metadata": {},
     "output_type": "display_data"
    },
    {
     "name": "stdout",
     "output_type": "stream",
     "text": [
      "Enter verification code: 4/2QF4vghv4JZ3LZKIU4x4xyeU1Xr9jgMAz3EKOyQ-xwFPdYvdCH19HWk\n",
      "\n",
      "Successfully saved authorization token.\n"
     ]
    }
   ],
   "source": [
    "import ee\n",
    "import geojson\n",
    "import json\n",
    "import pygeoj\n",
    "import numpy as np\n",
    "from IPython.display import Image\n",
    "\n",
    "# Trigger the authentication flow.\n",
    "ee.Authenticate()"
   ]
  },
  {
   "cell_type": "code",
   "execution_count": 2,
   "metadata": {},
   "outputs": [],
   "source": [
    "ee.Initialize()"
   ]
  },
  {
   "cell_type": "markdown",
   "metadata": {},
   "source": [
    "# Part 2: Collect Images"
   ]
  },
  {
   "cell_type": "markdown",
   "metadata": {},
   "source": [
    "### 2.a Function used to collect a list of google ee image objects"
   ]
  },
  {
   "cell_type": "code",
   "execution_count": 24,
   "metadata": {},
   "outputs": [],
   "source": [
    "def get_images(path_list, row_list, satellite, start_date, end_date, max_cloud_percentage):\n",
    "  # This function will get a list of image objects ~ according to the provided information\n",
    "\n",
    "    # get image collection object\n",
    "    coll = ee.ImageCollection(satellite)\\\n",
    "        .filterDate(start_date, end_date)\\\n",
    "        .filter(ee.Filter.inList('WRS_PATH', path_list))\\\n",
    "        .filter(ee.Filter.inList('WRS_ROW', row_list))\\\n",
    "        .filter(ee.Filter.lt('CLOUD_COVER' , max_cloud_percentage))  # note ~ not less than or equal to\n",
    "\n",
    "    # get image_id's\n",
    "    image_ids = list( map( lambda x : x['id'] , coll.getInfo()['features'] ) ) \n",
    "    \n",
    "    # get image objects\n",
    "    images = list( map( lambda x: ee.Image(x) , image_ids ) )\n",
    "    \n",
    "    return images\n",
    "\n"
   ]
  },
  {
   "cell_type": "markdown",
   "metadata": {},
   "source": [
    "### 2.b Collect the images"
   ]
  },
  {
   "cell_type": "code",
   "execution_count": 25,
   "metadata": {},
   "outputs": [],
   "source": [
    "# Get a list of images to work with\n",
    "p = [14]\n",
    "r = [32]\n",
    "toa_sat = 'LANDSAT/LC08/C01/T1_TOA'\n",
    "sat = 'LANDSAT/LC08/C01/T1'\n",
    "sd = '2013-05-01'\n",
    "ed = '2020-05-01'\n",
    "cc= 10\n",
    "image_list_nyc = get_images(p, r, toa_sat, sd, ed, cc)"
   ]
  },
  {
   "cell_type": "markdown",
   "metadata": {},
   "source": [
    "### 2.c Location of Interest"
   ]
  },
  {
   "cell_type": "code",
   "execution_count": 1,
   "metadata": {},
   "outputs": [
    {
     "ename": "NameError",
     "evalue": "name 'ee' is not defined",
     "output_type": "error",
     "traceback": [
      "\u001b[0;31m---------------------------------------------------------------------------\u001b[0m",
      "\u001b[0;31mNameError\u001b[0m                                 Traceback (most recent call last)",
      "\u001b[0;32m<ipython-input-1-dca106220af5>\u001b[0m in \u001b[0;36m<module>\u001b[0;34m\u001b[0m\n\u001b[0;32m----> 1\u001b[0;31m \u001b[0mnycsite\u001b[0m \u001b[0;34m=\u001b[0m \u001b[0mee\u001b[0m\u001b[0;34m.\u001b[0m\u001b[0mGeometry\u001b[0m\u001b[0;34m.\u001b[0m\u001b[0mRectangle\u001b[0m\u001b[0;34m(\u001b[0m\u001b[0;34m[\u001b[0m\u001b[0;34m-\u001b[0m\u001b[0;36m74.04\u001b[0m\u001b[0;34m,\u001b[0m \u001b[0;36m40.69\u001b[0m\u001b[0;34m,\u001b[0m \u001b[0;34m-\u001b[0m\u001b[0;36m73.82\u001b[0m\u001b[0;34m,\u001b[0m \u001b[0;36m40.94\u001b[0m\u001b[0;34m]\u001b[0m\u001b[0;34m)\u001b[0m\u001b[0;34m;\u001b[0m\u001b[0;34m\u001b[0m\u001b[0;34m\u001b[0m\u001b[0m\n\u001b[0m\u001b[1;32m      2\u001b[0m \u001b[0;34m\u001b[0m\u001b[0m\n\u001b[1;32m      3\u001b[0m \u001b[0mroosevelt_lake\u001b[0m \u001b[0;34m=\u001b[0m \u001b[0mee\u001b[0m\u001b[0;34m.\u001b[0m\u001b[0mGeometry\u001b[0m\u001b[0;34m.\u001b[0m\u001b[0mRectangle\u001b[0m\u001b[0;34m(\u001b[0m\u001b[0;34m[\u001b[0m\u001b[0;34m-\u001b[0m\u001b[0;36m73.97\u001b[0m \u001b[0;34m,\u001b[0m \u001b[0;36m40.78\u001b[0m \u001b[0;34m,\u001b[0m \u001b[0;34m-\u001b[0m\u001b[0;36m73.95\u001b[0m \u001b[0;34m,\u001b[0m \u001b[0;36m40.792\u001b[0m\u001b[0;34m]\u001b[0m\u001b[0;34m)\u001b[0m\u001b[0;34m\u001b[0m\u001b[0;34m\u001b[0m\u001b[0m\n\u001b[1;32m      4\u001b[0m \u001b[0;34m\u001b[0m\u001b[0m\n\u001b[1;32m      5\u001b[0m \u001b[0mimage0\u001b[0m \u001b[0;34m=\u001b[0m \u001b[0mimage_list_nyc\u001b[0m\u001b[0;34m[\u001b[0m\u001b[0;36m5\u001b[0m\u001b[0;34m]\u001b[0m \u001b[0;31m#one image from the list of images\u001b[0m\u001b[0;34m\u001b[0m\u001b[0;34m\u001b[0m\u001b[0m\n",
      "\u001b[0;31mNameError\u001b[0m: name 'ee' is not defined"
     ]
    }
   ],
   "source": [
    "nycsite = ee.Geometry.Rectangle([-74.04, 40.69, -73.82, 40.94]);\n",
    "\n",
    "roosevelt_lake = ee.Geometry.Rectangle([-73.97 , 40.78 , -73.95 , 40.792])\n",
    "\n",
    "image0 = image_list_nyc[5] #one image from the list of images\n",
    "\n",
    "parameters = {'min': 0.0,\n",
    "              'max': 16000.0,\n",
    "              'dimensions': 768,\n",
    "              'bands': ['B4', 'B3', 'B2']}\n",
    "toa_params = {'min': -1,\n",
    "              'max': 1,\n",
    "              'dimensions': 768,\n",
    "              'bands': ['B4', 'B3', 'B2']}\n",
    "\n",
    "#Image(url = image0.clip(nycsite).getThumbUrl(parameters))\n",
    "Image(url = image0.clip(nycsite).getThumbUrl(toa_params))"
   ]
  },
  {
   "cell_type": "markdown",
   "metadata": {},
   "source": [
    "# Part 3: Ground Truth Data"
   ]
  },
  {
   "cell_type": "markdown",
   "metadata": {},
   "source": [
    "Below is code from Arvind, this is used to take the ground truth data he created with google earth, and create dictionaries. <br>\n",
    "\n",
    "I have converted it to a function in order to allow for expansion\n"
   ]
  },
  {
   "cell_type": "markdown",
   "metadata": {},
   "source": [
    "### 3.a: Function to create featurevector of labeled geolocations"
   ]
  },
  {
   "cell_type": "code",
   "execution_count": 27,
   "metadata": {},
   "outputs": [],
   "source": [
    "\"\"\"\n",
    "This Function is compiled using code provided by Arvind. It is essential that we can \n",
    "Figure out a way to create 2 sets of data points which have no overlap. \n",
    "    1. Training ~ 80% \n",
    "    2. Testing  ~ 20%\n",
    "\"\"\"\n",
    "\n",
    "def get_labeled_data(jsonfiles , classalloc , num_points):\n",
    "    '''\n",
    "    Input:\n",
    "        jsonfiles = list of regions in json format\n",
    "        classalloc = list of integer classifiers \n",
    "                + for now, 1 = land, 0 = water\n",
    "    Output:\n",
    "        fc = feature collection to train on\n",
    "        nycfc = another feature collection  \n",
    "    '''\n",
    "\n",
    "\n",
    "    # Dictionaries to store intermediate objects before we get to features and feature collections.\n",
    "    coords_dict = {}\n",
    "    ee_dict = {}\n",
    "    randomPts_dict = {}\n",
    "    features_dict = {}\n",
    "\n",
    "    # Build the dictionaries\n",
    "    n = 0\n",
    "    for jsonfile in jsonfiles:\n",
    "        jsonfilepath =  jsonfile +'.json'\n",
    "        with open(jsonfilepath) as f:\n",
    "            data = geojson.load(f)\n",
    "\n",
    "        #creating a dictionary of coordinates\n",
    "        coords_dict[jsonfile + 'coords'] = np.array(data['features'][0]['geometry']['coordinates'][0])[:,0:2].tolist()\n",
    "\n",
    "        #creating a polygon from coordinate list\n",
    "        ee_dict[jsonfile + 'ee'] = ee.Geometry.Polygon(coords_dict[jsonfile + 'coords'])\n",
    "\n",
    "        \"\"\"\n",
    "        BIG PROBLEM:\n",
    "            How can we make the random points below into two EXCLUSIVE GROUPS\n",
    "\n",
    "        \"\"\"\n",
    "        randomPoints = ee.FeatureCollection.randomPoints(region=ee_dict[jsonfile + 'ee'],points=num_points)\n",
    "\n",
    "\n",
    "        randomPoints = randomPoints.map(lambda x: x.set({'landcover': classalloc[n]})) #This is to add a property named\n",
    "\n",
    "        randomPts_dict[jsonfile+'Pts'] = randomPoints\n",
    "\n",
    "\n",
    "\n",
    "        #randomPts_dict[jsonfile + 'rdnmPts'] = ee.FeatureCollection.randomPoints(ee_dict[jsonfile + 'ee'], 100)\n",
    "        features_dict[jsonfile + 'feature'] = ee.Feature(ee_dict[jsonfile + 'ee'], {'name': jsonfile, 'landcover': classalloc[n]})\n",
    "\n",
    "        n = n+1\n",
    "    '''\n",
    "    The individual features are combined as shown below to create a feature collection.\n",
    "\n",
    "    You can get some information about the features in the collection using commands as shown below.\n",
    "    '''\n",
    "    nycFC = ee.FeatureCollection(list(features_dict.values()))\n",
    "\n",
    "    nycFCpts = ee.FeatureCollection(list(randomPts_dict.values()))\n",
    "\n",
    "    fc = ee.FeatureCollection([])\n",
    "    for x in randomPts_dict.keys():\n",
    "        fc = fc.merge(randomPts_dict[x])\n",
    "\n",
    "    \n",
    "    return fc\n",
    "\n"
   ]
  },
  {
   "cell_type": "markdown",
   "metadata": {},
   "source": [
    "### 3.b Collect Ground Truth"
   ]
  },
  {
   "cell_type": "code",
   "execution_count": 28,
   "metadata": {},
   "outputs": [],
   "source": [
    "# Ground Truth Data\n",
    "jsonfiles = ['Hudson01', 'Hudson02', 'Bronx01', 'Astoria01'];\n",
    "classalloc = [1, 1, 0, 0];\n",
    "num_points = 1000\n",
    "num_points_test = 200\n",
    "\n",
    "'''\n",
    "Current problem ~ There easily could be overlap between these two samples. need to do a stratafied sample of sorts\n",
    "'''\n",
    "\n",
    "training_feature_collection = get_labeled_data(jsonfiles, classalloc , num_points )\n",
    "testing_feature_collection  = get_labeled_data(jsonfiles, classalloc , num_points_test )"
   ]
  },
  {
   "cell_type": "markdown",
   "metadata": {},
   "source": [
    "# Part 4: Build ML Classifier"
   ]
  },
  {
   "cell_type": "markdown",
   "metadata": {},
   "source": [
    "### 4.a.1 Regression_Tree Class"
   ]
  },
  {
   "cell_type": "code",
   "execution_count": 29,
   "metadata": {},
   "outputs": [],
   "source": [
    "class Regression_Tree_Classifier():\n",
    "    \n",
    "    def __init__(self):\n",
    "        self.classifier = None  # EE Classifier object\n",
    "        self.validated = None   # FeatureCollection object\n",
    "    \n",
    "    def set_classifier(self, maxNodes = None , minLeafPopulation = 1):\n",
    "        '''\n",
    "            Input:\n",
    "                maxNodes: The maximum number of nodes ~ i.e. if maxNodes = 3, the decision tree\n",
    "                          will split your dataset two times. (defaults to no limit)\n",
    "                minLeafPopulation: The minimum number of datapoints in each node:\n",
    "\n",
    "            Output: None ~ initializes self.classifer\n",
    "        '''\n",
    "        \n",
    "        self.classifier = ee.Classifier.smileCart(maxNodes = 2 , minLeafPopulation = 100)\n",
    "    \n",
    "    def train(self, train_coll, image, bands , label ):\n",
    "        '''\n",
    "            Input:\n",
    "                train_coll ~ featureCollection object with labeled data\n",
    "                image: image object you will train on\n",
    "                bands: list of strings ('B1' ect) the bands we are training on\n",
    "                label: what you have named the labeled data (for us it is 'landcover')\n",
    "\n",
    "            Output: None ~ trains self.classifier\n",
    "        '''\n",
    "        \n",
    "        # prepare the training data\n",
    "        training = image.select(bands).sampleRegions(\\\n",
    "                   collection =  train_coll,\\\n",
    "                   properties = [label],\\\n",
    "                   scale = 30.0)            # I am currently unsure what this is for ~ leave as 30\n",
    "    \n",
    "        # Train the classifier\n",
    "        self.classifier = self.classifier.train(training, label, bands)\n",
    "    \n",
    "    \n",
    "    def get_training_accuracy(self):\n",
    "        '''\n",
    "            Input: None\n",
    "\n",
    "            Output: \n",
    "                float ~ the training accuracy of the classifier\n",
    "        '''\n",
    "\n",
    "        return self.classifier.confusionMatrix().accuracy().getInfo()\n",
    "    \n",
    "    def test(self, test_coll , image, bands, label):\n",
    "        '''\n",
    "            Input:\n",
    "                test_coll ~ featureCollection object with labeled data\n",
    "                image: image object you will test on\n",
    "                bands: list of strings ('B1' ect) the bands we are testing on - needs to be the same as train\n",
    "                label: what you have named the labeled data (for us it is 'landcover')\n",
    "\n",
    "            Output: sets the self.validated feature collection \n",
    "        '''\n",
    "        \n",
    "        \n",
    "        # test on data not trained on\n",
    "        validation = image.select(bands).sampleRegions(\\\n",
    "                   collection =  test_coll,\\\n",
    "                   properties = [label],\\\n",
    "                   scale = 30.0)            # I am currently unsure what this is for ~ leave as 30\n",
    "         \n",
    "\n",
    "        self.validated = validation.classify(self.classifier)    \n",
    "    \n",
    "    def get_testing_accuracy(self , label):\n",
    "        '''\n",
    "            Input:\n",
    "                label: what you have named the labeled data (for us it is 'landcover')\n",
    "            Output:\n",
    "                float ~ the training accuracy of the classifier\n",
    "        '''        \n",
    "        return self.validated.errorMatrix(label, 'classification').accuracy().getInfo()\n",
    "        \n",
    "    \n",
    "    def apply_to_image(self, image , bands):\n",
    "        # function to apply classifier to an entire image\n",
    "        return image.select(bands).classify(self.classifier)\n",
    "  "
   ]
  },
  {
   "cell_type": "markdown",
   "metadata": {},
   "source": [
    "# 4.a.2 Random Forest Class"
   ]
  },
  {
   "cell_type": "code",
   "execution_count": 30,
   "metadata": {},
   "outputs": [],
   "source": [
    "class Random_Forest_Classifier():\n",
    "    \n",
    "    def __init__(self):\n",
    "        self.classifier = None  # EE Classifier object\n",
    "        self.validated = None   # FeatureCollection object\n",
    "    \n",
    "    def set_classifier(self, num_trees = 10 , maxNodes = None , bagFraction = 0.5 , minLeafPopulation = 1 , \\\n",
    "                      variablesPerSplit = None , seed = 0):\n",
    "        '''\n",
    "            Input:\n",
    "                maxNodes: The maximum number of nodes ~ i.e. if maxNodes = 3, the decision tree\n",
    "                          will split your dataset two times. (defaults to no limit)\n",
    "                minLeafPopulation: The minimum number of datapoints in each node:\n",
    "\n",
    "            Output: None ~ initializes self.classifer\n",
    "        '''\n",
    "        \n",
    "        self.classifier = ee.Classifier.smileRandomForest(numberOfTrees = num_trees , variablesPerSplit = variablesPerSplit , \\\n",
    "                bagFraction = bagFraction , minLeafPopulation=minLeafPopulation , seed = seed , maxNodes = maxNodes )\n",
    "    \n",
    "    def train(self, train_coll, image, bands , label ):\n",
    "        '''\n",
    "            Input:\n",
    "                train_coll ~ featureCollection object with labeled data\n",
    "                image: image object you will train on\n",
    "                bands: list of strings ('B1' ect) the bands we are training on\n",
    "                label: what you have named the labeled data (for us it is 'landcover')\n",
    "\n",
    "            Output: None ~ trains self.classifier\n",
    "        '''\n",
    "        \n",
    "        # prepare the training data\n",
    "        training = image.select(bands).sampleRegions(\\\n",
    "                   collection =  train_coll,\\\n",
    "                   properties = [label],\\\n",
    "                   scale = 30.0)            # I am currently unsure what this is for ~ leave as 30\n",
    "    \n",
    "        # Train the classifier\n",
    "        self.classifier = self.classifier.train(training, label, bands)\n",
    "    \n",
    "    \n",
    "    def get_training_accuracy(self):\n",
    "        '''\n",
    "            Input: None\n",
    "\n",
    "            Output: \n",
    "                float ~ the training accuracy of the classifier\n",
    "        '''\n",
    "\n",
    "        return self.classifier.confusionMatrix().accuracy().getInfo()\n",
    "    \n",
    "    def test(self, test_coll , image, bands, label):\n",
    "        '''\n",
    "            Input:\n",
    "                test_coll ~ featureCollection object with labeled data\n",
    "                image: image object you will test on\n",
    "                bands: list of strings ('B1' ect) the bands we are testing on - needs to be the same as train\n",
    "                label: what you have named the labeled data (for us it is 'landcover')\n",
    "\n",
    "            Output: sets the self.validated feature collection \n",
    "        '''\n",
    "        \n",
    "        \n",
    "        # test on data not trained on\n",
    "        validation = image.select(bands).sampleRegions(\\\n",
    "                   collection =  test_coll,\\\n",
    "                   properties = [label],\\\n",
    "                   scale = 30.0)            # I am currently unsure what this is for ~ leave as 30\n",
    "         \n",
    "\n",
    "        self.validated = validation.classify(self.classifier)    \n",
    "    \n",
    "    def get_testing_accuracy(self , label):\n",
    "        '''\n",
    "            Input:\n",
    "                label: what you have named the labeled data (for us it is 'landcover')\n",
    "            Output:\n",
    "                float ~ the training accuracy of the classifier\n",
    "        '''        \n",
    "        return self.validated.errorMatrix(label, 'classification').accuracy().getInfo()\n",
    "        \n",
    "    \n",
    "    def apply_to_image(self, image , bands):\n",
    "        # function to apply classifier to an entire image\n",
    "        return image.select(bands).classify(self.classifier)\n",
    "  "
   ]
  },
  {
   "cell_type": "markdown",
   "metadata": {},
   "source": [
    "### 4.b Train model"
   ]
  },
  {
   "cell_type": "code",
   "execution_count": 10,
   "metadata": {},
   "outputs": [],
   "source": [
    "training_image =  image_list_nyc[5]  # Randomly select the fifth image\n",
    "testing_image = image_list_nyc[0]\n",
    "\n",
    "b =  ['B2', 'B3', 'B4', 'B5', 'B6', 'B7', 'B10', 'B11']\n",
    "l = 'landcover'\n",
    "cls = Random_Forest_Classifier()\n",
    "\n",
    "cls.set_classifier(10 , None, 0.3 , 1 , None , 0)\n",
    "for image in image_list_nyc[0:2]:\n",
    "    if image == testing_image:\n",
    "        continue\n",
    "    else:\n",
    "        \n",
    "        cls.train(training_feature_collection, training_image , b, l)\n",
    "#cls.train(training_feature_collection, testing_image , b, l) # including this makes a big difference!"
   ]
  },
  {
   "cell_type": "code",
   "execution_count": 11,
   "metadata": {},
   "outputs": [
    {
     "data": {
      "text/plain": [
       "1"
      ]
     },
     "execution_count": 11,
     "metadata": {},
     "output_type": "execute_result"
    }
   ],
   "source": [
    "# I am not sure why this takes longer than the actual training\n",
    "'''\n",
    "You cannot run this if you have trained over an excess amount of data. I wonder if there is a more efficient\n",
    "way to go about this.\n",
    "\n",
    "There is... see here https://developers.google.com/earth-engine/debugging\n",
    "\n",
    "'''\n",
    "\n",
    "cls.get_training_accuracy()"
   ]
  },
  {
   "cell_type": "markdown",
   "metadata": {},
   "source": [
    "### 4.c Test model with Image we Trained on"
   ]
  },
  {
   "cell_type": "code",
   "execution_count": 12,
   "metadata": {},
   "outputs": [
    {
     "data": {
      "text/plain": [
       "1"
      ]
     },
     "execution_count": 12,
     "metadata": {},
     "output_type": "execute_result"
    }
   ],
   "source": [
    "cls.test(testing_feature_collection, training_image, b , l)\n",
    "cls.get_testing_accuracy(l)"
   ]
  },
  {
   "cell_type": "code",
   "execution_count": 35,
   "metadata": {},
   "outputs": [
    {
     "data": {
      "text/html": [
       "<img src=\"https://earthengine.googleapis.com/v1alpha/projects/earthengine-legacy/thumbnails/399c56de561fe52f6e25f636aad23b58-edf6748b4c8b9251d03fb7dff26ff11b:getPixels\"/>"
      ],
      "text/plain": [
       "<IPython.core.display.Image object>"
      ]
     },
     "execution_count": 35,
     "metadata": {},
     "output_type": "execute_result"
    }
   ],
   "source": [
    "result = cls.apply_to_image(training_image , b)\n",
    "parameters = {'min': 0.0,\n",
    "              'max': 1,\n",
    "              'dimensions': 768,\n",
    "              'palette': ['white', 'blue']}\n",
    "\n",
    "Image(url = result.clip(nycsite).getThumbUrl(parameters))"
   ]
  },
  {
   "cell_type": "markdown",
   "metadata": {},
   "source": [
    "### 4.d Test model with different image"
   ]
  },
  {
   "cell_type": "code",
   "execution_count": 14,
   "metadata": {},
   "outputs": [
    {
     "data": {
      "text/plain": [
       "0.65125"
      ]
     },
     "execution_count": 14,
     "metadata": {},
     "output_type": "execute_result"
    }
   ],
   "source": [
    "cls.test(testing_feature_collection, testing_image, b , l)\n",
    "cls.get_testing_accuracy(l)"
   ]
  },
  {
   "cell_type": "code",
   "execution_count": 37,
   "metadata": {},
   "outputs": [
    {
     "data": {
      "text/html": [
       "<img src=\"https://earthengine.googleapis.com/v1alpha/projects/earthengine-legacy/thumbnails/f8383805e6393952f12d38b724775d8b-40f37577b4e4ff7f686c7a7686be62cf:getPixels\"/>"
      ],
      "text/plain": [
       "<IPython.core.display.Image object>"
      ]
     },
     "execution_count": 37,
     "metadata": {},
     "output_type": "execute_result"
    }
   ],
   "source": [
    "result2 = cls.apply_to_image(testing_image , b)\n",
    "Image(url = result2.clip(nycsite).getThumbUrl(parameters))"
   ]
  },
  {
   "cell_type": "markdown",
   "metadata": {},
   "source": [
    "# Part 4: Applying the classifier\n",
    "To make use of a built classifier, we would like to accomplish one of two possible goals: <dir>\n",
    "1. Generate a mapping tool for a river bed\n",
    "2. Calculate the temporal area of a lake."
   ]
  },
  {
   "cell_type": "code",
   "execution_count": null,
   "metadata": {},
   "outputs": [],
   "source": []
  },
  {
   "cell_type": "code",
   "execution_count": null,
   "metadata": {},
   "outputs": [],
   "source": []
  },
  {
   "cell_type": "code",
   "execution_count": null,
   "metadata": {},
   "outputs": [],
   "source": []
  },
  {
   "cell_type": "code",
   "execution_count": null,
   "metadata": {},
   "outputs": [],
   "source": []
  },
  {
   "cell_type": "code",
   "execution_count": null,
   "metadata": {},
   "outputs": [],
   "source": []
  },
  {
   "cell_type": "markdown",
   "metadata": {},
   "source": [
    "# Part 5. Takaways\n",
    "As of now, the model accurately fits the training data (probably overfits). It performs well when used on the image from with the training data came from. it does not extrapolate well to other locations. \n",
    "\n",
    "### ideas.  \n",
    "<dir>\n",
    "    1. Use a cloud mask ~ remove all pixels with clouds <br>\n",
    "    2. Train over all images <br>\n",
    "    3. Choose a model with higher capacity <br>"
   ]
  },
  {
   "cell_type": "code",
   "execution_count": null,
   "metadata": {},
   "outputs": [],
   "source": []
  },
  {
   "cell_type": "markdown",
   "metadata": {},
   "source": [
    "# To Do\n",
    "- Switch to TOA reflectance ~ all between 0,1\n",
    "- Find out how to use the classifier\n",
    "\n",
    "# Results:\n",
    "- switching to TOA did improve results, but not to the effect we need"
   ]
  },
  {
   "cell_type": "code",
   "execution_count": null,
   "metadata": {},
   "outputs": [],
   "source": []
  }
 ],
 "metadata": {
  "kernelspec": {
   "display_name": "earth_analytics",
   "language": "python",
   "name": "earth_analytics"
  },
  "language_info": {
   "codemirror_mode": {
    "name": "ipython",
    "version": 3
   },
   "file_extension": ".py",
   "mimetype": "text/x-python",
   "name": "python",
   "nbconvert_exporter": "python",
   "pygments_lexer": "ipython3",
   "version": "3.7.7"
  }
 },
 "nbformat": 4,
 "nbformat_minor": 4
}
