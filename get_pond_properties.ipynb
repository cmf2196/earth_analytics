{
 "cells": [
  {
   "cell_type": "markdown",
   "metadata": {},
   "source": [
    "# get_pond_properties\n",
    "Author: Connor Finn <br>\n",
    "Date: July 29, 2020 <br>\n",
    "Description: <dir>\n",
    "    This notebook will be used to determine the geometric properties of the salton sea. To accomplish this, I read in a number of pictures from my desired location, use the watermask method demonstrated by Arvind, and used the area quantification method used by Prabhakar to calculate sqare kilometers. "
   ]
  },
  {
   "cell_type": "code",
   "execution_count": 184,
   "metadata": {},
   "outputs": [
    {
     "data": {
      "text/html": [
       "<p>To authorize access needed by Earth Engine, open the following\n",
       "        URL in a web browser and follow the instructions:</p>\n",
       "        <p><a href=https://accounts.google.com/o/oauth2/auth?client_id=517222506229-vsmmajv00ul0bs7p89v5m89qs8eb9359.apps.googleusercontent.com&scope=https%3A%2F%2Fwww.googleapis.com%2Fauth%2Fearthengine+https%3A%2F%2Fwww.googleapis.com%2Fauth%2Fdevstorage.full_control&redirect_uri=urn%3Aietf%3Awg%3Aoauth%3A2.0%3Aoob&response_type=code&code_challenge=eB4mRbTXMKpWzAoKfwH6kS3qLmO7hMvLLJgc1-i8zk4&code_challenge_method=S256>https://accounts.google.com/o/oauth2/auth?client_id=517222506229-vsmmajv00ul0bs7p89v5m89qs8eb9359.apps.googleusercontent.com&scope=https%3A%2F%2Fwww.googleapis.com%2Fauth%2Fearthengine+https%3A%2F%2Fwww.googleapis.com%2Fauth%2Fdevstorage.full_control&redirect_uri=urn%3Aietf%3Awg%3Aoauth%3A2.0%3Aoob&response_type=code&code_challenge=eB4mRbTXMKpWzAoKfwH6kS3qLmO7hMvLLJgc1-i8zk4&code_challenge_method=S256</a></p>\n",
       "        <p>The authorization workflow will generate a code, which you\n",
       "        should paste in the box below</p>\n",
       "        "
      ],
      "text/plain": [
       "<IPython.core.display.HTML object>"
      ]
     },
     "metadata": {},
     "output_type": "display_data"
    },
    {
     "name": "stdout",
     "output_type": "stream",
     "text": [
      "Enter verification code: 4/2gHlTmVPigD26QBxOZS0_OVC9KbHyqvLTiIUtmvm9QOLGzqrNh3pvQY\n",
      "\n",
      "Successfully saved authorization token.\n"
     ]
    }
   ],
   "source": [
    "import ee\n",
    "import numpy as np\n",
    "from IPython.display import Image\n",
    "import matplotlib.pyplot as plt\n",
    "\n",
    "# Trigger the authentication flow.\n",
    "ee.Authenticate()"
   ]
  },
  {
   "cell_type": "code",
   "execution_count": 185,
   "metadata": {},
   "outputs": [],
   "source": [
    "ee.Initialize()"
   ]
  },
  {
   "cell_type": "markdown",
   "metadata": {},
   "source": [
    "# Collect an image"
   ]
  },
  {
   "cell_type": "markdown",
   "metadata": {},
   "source": [
    "## Part 1: Collect the images - all during the month of May (same as time lapse)"
   ]
  },
  {
   "cell_type": "code",
   "execution_count": 207,
   "metadata": {},
   "outputs": [],
   "source": [
    "def get_images(path_list , row_list , satelite , start_date , end_date , max_cloud_percentage , months):\n",
    "    \n",
    "    # get image collection object\n",
    "    coll = ee.ImageCollection(satelite)\\\n",
    "        .filterDate(start_date, end_date)\\\n",
    "        .filter(ee.Filter.inList('WRS_PATH', path_list))\\\n",
    "        .filter(ee.Filter.inList('WRS_ROW', row_list))\\\n",
    "        .filter(ee.Filter.lt('CLOUD_COVER' , max_cloud_percentage))\\\n",
    "        .filter(ee.Filter.calendarRange(months[0],months[1],'month'))    # just may data\n",
    "    # get image_id's\n",
    "    image_ids = list( map( lambda x : x['id'] , coll.getInfo()['features'] ) ) \n",
    "    \n",
    "    # get image objects\n",
    "    images = list( map( lambda x: ee.Image(x) , image_ids ) )\n",
    "    \n",
    "    return images\n"
   ]
  },
  {
   "cell_type": "code",
   "execution_count": 208,
   "metadata": {},
   "outputs": [],
   "source": [
    "# fill in the information\n",
    "p = [39]                                    # path       \n",
    "r = [37]                                    # row \n",
    "sat = 'LANDSAT/LC08/C01/T1_TOA'             # use this satelite\n",
    "sd = '2013-05-01'                           # start date\n",
    "ed = '2020-05-01'                           # end date\n",
    "cc= 1                                       # max cloud cover percentage\n",
    "months = [5 , 5]                            # months [start, end]\n",
    "image_list = get_images(p, r, sat, sd, ed, cc , months)"
   ]
  },
  {
   "cell_type": "markdown",
   "metadata": {},
   "source": [
    "## Reduce the images to just the lake"
   ]
  },
  {
   "cell_type": "code",
   "execution_count": null,
   "metadata": {},
   "outputs": [],
   "source": []
  },
  {
   "cell_type": "code",
   "execution_count": null,
   "metadata": {},
   "outputs": [],
   "source": []
  },
  {
   "cell_type": "code",
   "execution_count": 209,
   "metadata": {},
   "outputs": [],
   "source": [
    "lake_bounding_box = ([-116.21,33.58],\\\n",
    " [-116.19,33.03],\\\n",
    " [-115.36,33.04],\\\n",
    " [-115.40,33.65])\n",
    "\n",
    "lake_region = ee.Geometry.Rectangle([-116.21 , 33.03 , -115.36 , 33.65])"
   ]
  },
  {
   "cell_type": "code",
   "execution_count": 210,
   "metadata": {},
   "outputs": [],
   "source": [
    "# This function adds a band with the ndvi.\n",
    "\n",
    "def addNDWI(image):\n",
    "    return image.addBands(image.normalizedDifference(['B5', 'B7']))\n",
    "\n",
    "\n",
    "def addNDVI(image):\n",
    "    return image.addBands(image.normalizedDifference(['B3', 'B5']))"
   ]
  },
  {
   "cell_type": "code",
   "execution_count": 211,
   "metadata": {},
   "outputs": [],
   "source": [
    "# this function clip to the lake\n",
    "def clip(image):\n",
    "    lake_region = ee.Geometry.Rectangle([-116.21 , 33.03 , -115.36 , 33.65])\n",
    "    return image.clip(lake_region)"
   ]
  },
  {
   "cell_type": "markdown",
   "metadata": {},
   "source": [
    "## Add NDWI, and display"
   ]
  },
  {
   "cell_type": "code",
   "execution_count": 212,
   "metadata": {},
   "outputs": [
    {
     "data": {
      "text/html": [
       "<img src=\"https://earthengine.googleapis.com/v1alpha/projects/earthengine-legacy/thumbnails/e0a9883d48b4c0d1e3b8a32dca379e49-c4ed0e6ac7be075d835aedf6599f672a:getPixels\"/>"
      ],
      "text/plain": [
       "<IPython.core.display.Image object>"
      ]
     },
     "metadata": {},
     "output_type": "display_data"
    }
   ],
   "source": [
    "image_list = list(map(addNDWI, image_list))        # set as 'nd'\n",
    "image_list = list(map(clip, image_list))\n",
    "\n",
    "\n",
    "parameters = {'min': -1.0, # value which is mapped to 0\n",
    "              'max': 1.0,  # value which is mapped to 255\n",
    "              'dimensions': 768,   # size of the image \n",
    "              'bands': ['nd'],     # The bands we select\n",
    "              'palette': ['green', 'white', 'blue'],  # only use a pallete when visualizing one.\n",
    "              #'region': lake_region\n",
    "}\n",
    "\n",
    "lake_image = image_list[0]\n",
    "display(Image(url = lake_image.getThumbUrl(parameters)))"
   ]
  },
  {
   "cell_type": "markdown",
   "metadata": {},
   "source": [
    "## Add NDVI, and display"
   ]
  },
  {
   "cell_type": "code",
   "execution_count": 213,
   "metadata": {},
   "outputs": [
    {
     "data": {
      "text/html": [
       "<img src=\"https://earthengine.googleapis.com/v1alpha/projects/earthengine-legacy/thumbnails/c73f04bd43a0079c5c4268b6b82b4a3d-ce26b41777b717e6fad746281f1b63ce:getPixels\"/>"
      ],
      "text/plain": [
       "<IPython.core.display.Image object>"
      ]
     },
     "metadata": {},
     "output_type": "display_data"
    }
   ],
   "source": [
    "image_list = list(map(addNDVI, image_list))        # set as 'nd_1'\n",
    "parameters = {'min': -1.0, # value which is mapped to 0\n",
    "              'max': 1.0,  # value which is mapped to 255\n",
    "              'dimensions': 768,   # size of the image \n",
    "              'bands': ['nd_1'],     # The bands we select\n",
    "              'palette': ['green', 'white', 'blue'],  # only use a pallete when visualizing one.\n",
    "              #'region': lake_region\n",
    "}\n",
    "\n",
    "lake_image = image_list[0]\n",
    "display(Image(url = lake_image.getThumbUrl(parameters)))"
   ]
  },
  {
   "cell_type": "markdown",
   "metadata": {},
   "source": [
    "# Create a Water mask here\n",
    "To follow with this [tutorial](https://developers.google.com/earth-engine/tutorial_forest_03), we need a band which gives a value equal to 1 for (in the lake), and 0 elsewise. <br>\n",
    "I can see this expanding to a 1 for any location where land turns to water in future situations <dir>\n",
    "    \n",
    "    For now. This will be done using a water mask on the ndwi value. We will say use 0.01 as the cutoff value. Arvind provided the base code for creating the following watermask. I will then use the tutorial as well as some code provided to me by Prabhakar to calculate a numerical value for the water. "
   ]
  },
  {
   "cell_type": "markdown",
   "metadata": {},
   "source": [
    "## Part 1. May 2013"
   ]
  },
  {
   "cell_type": "code",
   "execution_count": 214,
   "metadata": {},
   "outputs": [
    {
     "data": {
      "text/html": [
       "<img src=\"https://earthengine.googleapis.com/v1alpha/projects/earthengine-legacy/thumbnails/0a7d5bdcb96bfb2333c961a8ccca1de1-86151eac57599d7ce637a15b9fd98268:getPixels\"/>"
      ],
      "text/plain": [
       "<IPython.core.display.Image object>"
      ]
     },
     "execution_count": 214,
     "metadata": {},
     "output_type": "execute_result"
    }
   ],
   "source": [
    "#Creating a water mask  based on the histogram shown earlier.\n",
    "waterthreshold = .1;\n",
    "image_ndvi = lake_image.select(['nd_1'])\n",
    "\n",
    "watermask = image_ndvi.gte(waterthreshold) #creating a water mask. Any NDWI greater than waterthreshold value is taken to be water.\n",
    "\n",
    "parameters = {'min': -0.5,\n",
    "              'max': 0.4,\n",
    "              'dimensions': 768,\n",
    "              'palette': ['brown', 'white', 'blue'],\n",
    "}\n",
    "Image(url = watermask.getThumbUrl(parameters))"
   ]
  },
  {
   "cell_type": "code",
   "execution_count": 215,
   "metadata": {},
   "outputs": [
    {
     "data": {
      "text/plain": [
       "(array([810.,   0.,   0.,   0.,   0.,   0.,   0.,   0.,   0., 169.]),\n",
       " array([0. , 0.1, 0.2, 0.3, 0.4, 0.5, 0.6, 0.7, 0.8, 0.9, 1. ]),\n",
       " <a list of 10 Patch objects>)"
      ]
     },
     "execution_count": 215,
     "metadata": {},
     "output_type": "execute_result"
    },
    {
     "data": {
      "image/png": "[encoded data removed]",
      "text/plain": [
       "<Figure size 432x288 with 1 Axes>"
      ]
     },
     "metadata": {
      "needs_background": "light"
     },
     "output_type": "display_data"
    }
   ],
   "source": [
    "#What is in the watermask?\n",
    "watermask_data = ee.List(watermask.sample(numPixels = 1000).reduceColumns(ee.Reducer.toList().repeat(1), ['nd_1']).get('list')).getInfo()\n",
    "plt.hist(watermask_data) # You can see that the mask is a contrast - greater than threshold is categorized as 1 and the rest as 0."
   ]
  },
  {
   "cell_type": "markdown",
   "metadata": {},
   "source": [
    "### Compute area"
   ]
  },
  {
   "cell_type": "markdown",
   "metadata": {},
   "source": [
    "To help compute areas, Earth Engine has the ee.Image.pixelArea() method which generates an image in which the value of each pixel is the pixel's area in square meters. Note that I am converting the javascript example to python here. The dictionary is now simply keywords."
   ]
  },
  {
   "cell_type": "code",
   "execution_count": 216,
   "metadata": {},
   "outputs": [],
   "source": [
    "'''\n",
    "I calculate the sum of the water in the region.\n",
    "Note that the pixel value is 1 where there is water and 0 where there is land. \n",
    "For this reason, a simple summation call will collect all the water pixels in the area. \n",
    "''' \n",
    "pixel_stats = watermask.reduceRegion(\\\n",
    "        reducer = ee.Reducer.sum(),\\\n",
    "        scale =  30\\\n",
    "        )"
   ]
  },
  {
   "cell_type": "code",
   "execution_count": 217,
   "metadata": {},
   "outputs": [
    {
     "name": "stdout",
     "output_type": "stream",
     "text": [
      "The amount of pixels representing water in this image are,  1013983\n"
     ]
    }
   ],
   "source": [
    "print( \"The amount of pixels representing water in this image are, \" , pixel_stats.getInfo()['nd_1'] )"
   ]
  },
  {
   "cell_type": "markdown",
   "metadata": {},
   "source": [
    "### To convert to square meters. i use the ee.Image.pixelArea() method\n",
    "This is a method Prabhakar used, and is also used in the tutorial"
   ]
  },
  {
   "cell_type": "code",
   "execution_count": 218,
   "metadata": {},
   "outputs": [],
   "source": [
    "watermask_square_meter = watermask.multiply(ee.Image.pixelArea()).divide(1000*1000)"
   ]
  },
  {
   "cell_type": "code",
   "execution_count": 219,
   "metadata": {},
   "outputs": [],
   "source": [
    "sqm_stats = watermask_square_meter.reduceRegion(\\\n",
    "        reducer = ee.Reducer.sum(),\\\n",
    "        scale =  30\\\n",
    "        )"
   ]
  },
  {
   "cell_type": "code",
   "execution_count": 220,
   "metadata": {},
   "outputs": [
    {
     "name": "stdout",
     "output_type": "stream",
     "text": [
      "The amount of square kilometers representing water in this image are,  913.0398384740643\n"
     ]
    }
   ],
   "source": [
    "print( \"The amount of square kilometers representing water in this image are, \" , sqm_stats.getInfo()['nd_1'] )"
   ]
  },
  {
   "cell_type": "markdown",
   "metadata": {},
   "source": [
    "## Part 2. May 2020\n",
    "I recognize that this is a noisy estimate. However, I will use the last image and see if there has been any reduction."
   ]
  },
  {
   "cell_type": "code",
   "execution_count": 221,
   "metadata": {},
   "outputs": [],
   "source": [
    "last_lake_image = image_list[-1]"
   ]
  },
  {
   "cell_type": "code",
   "execution_count": 222,
   "metadata": {},
   "outputs": [
    {
     "data": {
      "text/html": [
       "<img src=\"https://earthengine.googleapis.com/v1alpha/projects/earthengine-legacy/thumbnails/31d2e587be02578f2d92f4881ca2cdbe-92c45d1c658e5d5322135188e74ce99d:getPixels\"/>"
      ],
      "text/plain": [
       "<IPython.core.display.Image object>"
      ]
     },
     "execution_count": 222,
     "metadata": {},
     "output_type": "execute_result"
    }
   ],
   "source": [
    "last_image_ndvi = last_lake_image.select(['nd_1'])\n",
    "last_watermask = last_image_ndvi.gte(waterthreshold) #creating a water mask. Any NDWI greater than waterthreshold value is taken to be water.\n",
    "\n",
    "parameters = {'min': -0.5,\n",
    "              'max': 0.4,\n",
    "              'dimensions': 768,\n",
    "              'palette': ['brown', 'white', 'blue'],\n",
    "}\n",
    "Image(url = last_watermask.getThumbUrl(parameters))"
   ]
  },
  {
   "cell_type": "code",
   "execution_count": 223,
   "metadata": {},
   "outputs": [
    {
     "name": "stdout",
     "output_type": "stream",
     "text": [
      "The amount of pixels representing water in this image are,  969300\n",
      "The amount of square kilometers representing water in this image are,  872.8058068843353\n"
     ]
    }
   ],
   "source": [
    "last_watermask_square_meter = last_watermask.multiply(ee.Image.pixelArea()).divide(1000*1000)\n",
    "\n",
    "last_pixel_stats = last_watermask.reduceRegion(\\\n",
    "        reducer = ee.Reducer.sum(),\\\n",
    "        scale =  30\\\n",
    "        )\n",
    "\n",
    "\n",
    "last_sqm_stats = last_watermask_square_meter.reduceRegion(\\\n",
    "        reducer = ee.Reducer.sum(),\\\n",
    "        scale =  30\\\n",
    "        )\n",
    "print( \"The amount of pixels representing water in this image are, \" , last_pixel_stats.getInfo()['nd_1'] )\n",
    "print( \"The amount of square kilometers representing water in this image are, \" , last_sqm_stats.getInfo()['nd_1'] )"
   ]
  }
 ],
 "metadata": {
  "kernelspec": {
   "display_name": "earth_analytics",
   "language": "python",
   "name": "earth_analytics"
  },
  "language_info": {
   "codemirror_mode": {
    "name": "ipython",
    "version": 3
   },
   "file_extension": ".py",
   "mimetype": "text/x-python",
   "name": "python",
   "nbconvert_exporter": "python",
   "pygments_lexer": "ipython3",
   "version": "3.7.7"
  }
 },
 "nbformat": 4,
 "nbformat_minor": 4
}
