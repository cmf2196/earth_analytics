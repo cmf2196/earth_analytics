{
 "cells": [
  {
   "cell_type": "markdown",
   "metadata": {},
   "source": [
    "# get_pond_properties\n",
    "Author: Connor Finn <br>\n",
    "Date: July 29, 2020 <br>\n",
    "Description: <dir>\n",
    "    This notebook will be used to determine the geometric properties of the salton sea."
   ]
  },
  {
   "cell_type": "code",
   "execution_count": 1,
   "metadata": {},
   "outputs": [
    {
     "data": {
      "text/html": [
       "<p>To authorize access needed by Earth Engine, open the following\n",
       "        URL in a web browser and follow the instructions:</p>\n",
       "        <p><a href=https://accounts.google.com/o/oauth2/auth?client_id=517222506229-vsmmajv00ul0bs7p89v5m89qs8eb9359.apps.googleusercontent.com&scope=https%3A%2F%2Fwww.googleapis.com%2Fauth%2Fearthengine+https%3A%2F%2Fwww.googleapis.com%2Fauth%2Fdevstorage.full_control&redirect_uri=urn%3Aietf%3Awg%3Aoauth%3A2.0%3Aoob&response_type=code&code_challenge=mnS2X-DOz-VdJv83HifdMDDEa1ZGbsETEKZxUWXY54I&code_challenge_method=S256>https://accounts.google.com/o/oauth2/auth?client_id=517222506229-vsmmajv00ul0bs7p89v5m89qs8eb9359.apps.googleusercontent.com&scope=https%3A%2F%2Fwww.googleapis.com%2Fauth%2Fearthengine+https%3A%2F%2Fwww.googleapis.com%2Fauth%2Fdevstorage.full_control&redirect_uri=urn%3Aietf%3Awg%3Aoauth%3A2.0%3Aoob&response_type=code&code_challenge=mnS2X-DOz-VdJv83HifdMDDEa1ZGbsETEKZxUWXY54I&code_challenge_method=S256</a></p>\n",
       "        <p>The authorization workflow will generate a code, which you\n",
       "        should paste in the box below</p>\n",
       "        "
      ],
      "text/plain": [
       "<IPython.core.display.HTML object>"
      ]
     },
     "metadata": {},
     "output_type": "display_data"
    },
    {
     "name": "stdout",
     "output_type": "stream",
     "text": [
      "Enter verification code: 4/2QHUKRmDQVVI4Hx0PHeDuUBp8EaxwvBCtVgb_ruEUkbFwMyXdBJxWHs\n",
      "\n",
      "Successfully saved authorization token.\n"
     ]
    }
   ],
   "source": [
    "import ee\n",
    "import numpy as np\n",
    "from IPython.display import Image\n",
    "\n",
    "# Trigger the authentication flow.\n",
    "ee.Authenticate()"
   ]
  },
  {
   "cell_type": "code",
   "execution_count": 2,
   "metadata": {},
   "outputs": [],
   "source": [
    "ee.Initialize()"
   ]
  },
  {
   "cell_type": "markdown",
   "metadata": {},
   "source": [
    "# Collect an image"
   ]
  },
  {
   "cell_type": "markdown",
   "metadata": {},
   "source": [
    "## Part 1: Collect the images - all during the month of May (same as time lapse)"
   ]
  },
  {
   "cell_type": "code",
   "execution_count": 50,
   "metadata": {},
   "outputs": [],
   "source": [
    "def get_images(path_list , row_list , satelite , start_date , end_date , max_cloud_percentage , months):\n",
    "    \n",
    "    # get image collection object\n",
    "    coll = ee.ImageCollection(satelite)\\\n",
    "        .filterDate(start_date, end_date)\\\n",
    "        .filter(ee.Filter.inList('WRS_PATH', path_list))\\\n",
    "        .filter(ee.Filter.inList('WRS_ROW', row_list))\\\n",
    "        .filter(ee.Filter.lt('CLOUD_COVER' , max_cloud_percentage))\\\n",
    "        .filter(ee.Filter.calendarRange(months[0],months[1],'month'))    # just may data\n",
    "    # get image_id's\n",
    "    image_ids = list( map( lambda x : x['id'] , coll.getInfo()['features'] ) ) \n",
    "    \n",
    "    # get image objects\n",
    "    images = list( map( lambda x: ee.Image(x) , image_ids ) )\n",
    "    \n",
    "    return images\n"
   ]
  },
  {
   "cell_type": "code",
   "execution_count": 51,
   "metadata": {},
   "outputs": [],
   "source": [
    "# fill in the information\n",
    "p = [39]                                    # path       \n",
    "r = [37]                                    # row \n",
    "sat = 'LANDSAT/LC08/C01/T1_TOA'             # use this satelite\n",
    "sd = '2013-05-01'                           # start date\n",
    "ed = '2020-05-01'                           # end date\n",
    "cc= 15                                      # max cloud cover percentage\n",
    "months = [5 , 5]                            # months [start, end]\n",
    "image_list = get_images(p, r, sat, sd, ed, cc , months)"
   ]
  },
  {
   "cell_type": "markdown",
   "metadata": {},
   "source": [
    "## Reduce the images to just the lake"
   ]
  },
  {
   "cell_type": "code",
   "execution_count": null,
   "metadata": {},
   "outputs": [],
   "source": []
  },
  {
   "cell_type": "code",
   "execution_count": null,
   "metadata": {},
   "outputs": [],
   "source": []
  },
  {
   "cell_type": "code",
   "execution_count": 52,
   "metadata": {},
   "outputs": [],
   "source": [
    "lake_bounding_box = ([-116.21,33.58],\\\n",
    " [-116.19,33.03],\\\n",
    " [-115.36,33.04],\\\n",
    " [-115.40,33.65])\n",
    "\n",
    "lake_region = ee.Geometry.Rectangle([-116.21 , 33.03 , -115.36 , 33.65])"
   ]
  },
  {
   "cell_type": "code",
   "execution_count": 53,
   "metadata": {},
   "outputs": [],
   "source": [
    "# This function adds a band with the ndvi.\n",
    "\n",
    "def addNDWI(image):\n",
    "    return image.addBands(image.normalizedDifference(['B5', 'B4']))\n",
    "\n",
    "\n",
    "def addNDVI(image):\n",
    "    return image.addBands(image.normalizedDifference(['B5', 'B3']))"
   ]
  },
  {
   "cell_type": "code",
   "execution_count": 54,
   "metadata": {},
   "outputs": [],
   "source": [
    "# this function clip to the lake\n",
    "def clip(image):\n",
    "    lake_region = ee.Geometry.Rectangle([-116.21 , 33.03 , -115.36 , 33.65])\n",
    "    return image.clip(lake_region)"
   ]
  },
  {
   "cell_type": "markdown",
   "metadata": {},
   "source": [
    "## Add NDWI, and display"
   ]
  },
  {
   "cell_type": "code",
   "execution_count": 55,
   "metadata": {},
   "outputs": [
    {
     "data": {
      "text/html": [
       "<img src=\"https://earthengine.googleapis.com/v1alpha/projects/earthengine-legacy/thumbnails/0fb37ee55a3dcddc78c6e3cd96eb56c9-44ab5843943e1b8c48ff126669be3d78:getPixels\"/>"
      ],
      "text/plain": [
       "<IPython.core.display.Image object>"
      ]
     },
     "metadata": {},
     "output_type": "display_data"
    }
   ],
   "source": [
    "image_list = list(map(addNDWI, image_list))        # set as 'nd'\n",
    "image_list = list(map(clip, image_list))\n",
    "\n",
    "\n",
    "parameters = {'min': -1.0, # value which is mapped to 0\n",
    "              'max': 1.0,  # value which is mapped to 255\n",
    "              'dimensions': 768,   # size of the image \n",
    "              'bands': ['nd'],     # The bands we select\n",
    "              'palette': ['blue', 'white', 'green'],  # only use a pallete when visualizing one.\n",
    "              #'region': lake_region\n",
    "}\n",
    "\n",
    "lake_image = image_list[0]\n",
    "display(Image(url = lake_image.getThumbUrl(parameters)))"
   ]
  },
  {
   "cell_type": "markdown",
   "metadata": {},
   "source": [
    "## Add NDVI, and display"
   ]
  },
  {
   "cell_type": "code",
   "execution_count": 56,
   "metadata": {},
   "outputs": [
    {
     "data": {
      "text/html": [
       "<img src=\"https://earthengine.googleapis.com/v1alpha/projects/earthengine-legacy/thumbnails/ae7706dbb3523857f2a4028d10779169-9996d47366609e0ad070dc284e1e8ae0:getPixels\"/>"
      ],
      "text/plain": [
       "<IPython.core.display.Image object>"
      ]
     },
     "metadata": {},
     "output_type": "display_data"
    }
   ],
   "source": [
    "image_list = list(map(addNDVI, image_list))        # set as 'nd_1'\n",
    "parameters = {'min': -1.0, # value which is mapped to 0\n",
    "              'max': 1.0,  # value which is mapped to 255\n",
    "              'dimensions': 768,   # size of the image \n",
    "              'bands': ['nd_1'],     # The bands we select\n",
    "              'palette': ['blue', 'white', 'green'],  # only use a pallete when visualizing one.\n",
    "              #'region': lake_region\n",
    "}\n",
    "\n",
    "lake_image = image_list[0]\n",
    "display(Image(url = lake_image.getThumbUrl(parameters)))"
   ]
  },
  {
   "cell_type": "code",
   "execution_count": 61,
   "metadata": {},
   "outputs": [
    {
     "data": {
      "text/plain": [
       "[{'id': 'B1',\n",
       "  'data_type': {'type': 'PixelType', 'precision': 'float'},\n",
       "  'dimensions': [2665, 2323],\n",
       "  'origin': [1968, 1878],\n",
       "  'crs': 'EPSG:32611',\n",
       "  'crs_transform': [30, 0, 514185, 0, -30, 3780915]},\n",
       " {'id': 'B2',\n",
       "  'data_type': {'type': 'PixelType', 'precision': 'float'},\n",
       "  'dimensions': [2665, 2323],\n",
       "  'origin': [1968, 1878],\n",
       "  'crs': 'EPSG:32611',\n",
       "  'crs_transform': [30, 0, 514185, 0, -30, 3780915]},\n",
       " {'id': 'B3',\n",
       "  'data_type': {'type': 'PixelType', 'precision': 'float'},\n",
       "  'dimensions': [2665, 2323],\n",
       "  'origin': [1968, 1878],\n",
       "  'crs': 'EPSG:32611',\n",
       "  'crs_transform': [30, 0, 514185, 0, -30, 3780915]},\n",
       " {'id': 'B4',\n",
       "  'data_type': {'type': 'PixelType', 'precision': 'float'},\n",
       "  'dimensions': [2665, 2323],\n",
       "  'origin': [1968, 1878],\n",
       "  'crs': 'EPSG:32611',\n",
       "  'crs_transform': [30, 0, 514185, 0, -30, 3780915]},\n",
       " {'id': 'B5',\n",
       "  'data_type': {'type': 'PixelType', 'precision': 'float'},\n",
       "  'dimensions': [2665, 2323],\n",
       "  'origin': [1968, 1878],\n",
       "  'crs': 'EPSG:32611',\n",
       "  'crs_transform': [30, 0, 514185, 0, -30, 3780915]},\n",
       " {'id': 'B6',\n",
       "  'data_type': {'type': 'PixelType', 'precision': 'float'},\n",
       "  'dimensions': [2665, 2323],\n",
       "  'origin': [1968, 1878],\n",
       "  'crs': 'EPSG:32611',\n",
       "  'crs_transform': [30, 0, 514185, 0, -30, 3780915]},\n",
       " {'id': 'B7',\n",
       "  'data_type': {'type': 'PixelType', 'precision': 'float'},\n",
       "  'dimensions': [2665, 2323],\n",
       "  'origin': [1968, 1878],\n",
       "  'crs': 'EPSG:32611',\n",
       "  'crs_transform': [30, 0, 514185, 0, -30, 3780915]},\n",
       " {'id': 'B8',\n",
       "  'data_type': {'type': 'PixelType', 'precision': 'float'},\n",
       "  'dimensions': [5328, 4646],\n",
       "  'origin': [3937, 3756],\n",
       "  'crs': 'EPSG:32611',\n",
       "  'crs_transform': [15, 0, 514192.5, 0, -15, 3780907.5]},\n",
       " {'id': 'B9',\n",
       "  'data_type': {'type': 'PixelType', 'precision': 'float'},\n",
       "  'dimensions': [2665, 2323],\n",
       "  'origin': [1968, 1878],\n",
       "  'crs': 'EPSG:32611',\n",
       "  'crs_transform': [30, 0, 514185, 0, -30, 3780915]},\n",
       " {'id': 'B10',\n",
       "  'data_type': {'type': 'PixelType', 'precision': 'float'},\n",
       "  'dimensions': [2665, 2323],\n",
       "  'origin': [1968, 1878],\n",
       "  'crs': 'EPSG:32611',\n",
       "  'crs_transform': [30, 0, 514185, 0, -30, 3780915]},\n",
       " {'id': 'B11',\n",
       "  'data_type': {'type': 'PixelType', 'precision': 'float'},\n",
       "  'dimensions': [2665, 2323],\n",
       "  'origin': [1968, 1878],\n",
       "  'crs': 'EPSG:32611',\n",
       "  'crs_transform': [30, 0, 514185, 0, -30, 3780915]},\n",
       " {'id': 'BQA',\n",
       "  'data_type': {'type': 'PixelType',\n",
       "   'precision': 'int',\n",
       "   'min': 0,\n",
       "   'max': 65535},\n",
       "  'dimensions': [2665, 2323],\n",
       "  'origin': [1968, 1878],\n",
       "  'crs': 'EPSG:32611',\n",
       "  'crs_transform': [30, 0, 514185, 0, -30, 3780915]},\n",
       " {'id': 'nd',\n",
       "  'data_type': {'type': 'PixelType',\n",
       "   'precision': 'float',\n",
       "   'min': -1,\n",
       "   'max': 1},\n",
       "  'dimensions': [2665, 2323],\n",
       "  'origin': [1968, 1878],\n",
       "  'crs': 'EPSG:32611',\n",
       "  'crs_transform': [30, 0, 514185, 0, -30, 3780915]},\n",
       " {'id': 'nd_1',\n",
       "  'data_type': {'type': 'PixelType',\n",
       "   'precision': 'float',\n",
       "   'min': -1,\n",
       "   'max': 1},\n",
       "  'dimensions': [2665, 2323],\n",
       "  'origin': [1968, 1878],\n",
       "  'crs': 'EPSG:32611',\n",
       "  'crs_transform': [30, 0, 514185, 0, -30, 3780915]}]"
      ]
     },
     "execution_count": 61,
     "metadata": {},
     "output_type": "execute_result"
    }
   ],
   "source": [
    "lake_image.getInfo()['bands']"
   ]
  },
  {
   "cell_type": "code",
   "execution_count": null,
   "metadata": {},
   "outputs": [],
   "source": []
  },
  {
   "cell_type": "code",
   "execution_count": null,
   "metadata": {},
   "outputs": [],
   "source": []
  }
 ],
 "metadata": {
  "kernelspec": {
   "display_name": "earth_analytics",
   "language": "python",
   "name": "earth_analytics"
  },
  "language_info": {
   "codemirror_mode": {
    "name": "ipython",
    "version": 3
   },
   "file_extension": ".py",
   "mimetype": "text/x-python",
   "name": "python",
   "nbconvert_exporter": "python",
   "pygments_lexer": "ipython3",
   "version": "3.7.7"
  }
 },
 "nbformat": 4,
 "nbformat_minor": 4
}
