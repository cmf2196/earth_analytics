{
 "cells": [
  {
   "cell_type": "markdown",
   "metadata": {},
   "source": [
    "# get_pond_properties\n",
    "Author: Connor Finn <br>\n",
    "Date: July 29, 2020 <br>\n",
    "Description: \n",
    "    This notebook will be used to determine the geometric properties of the salton sea. To accomplish this, I read in a number of pictures from my desired location, use the watermask method demonstrated by Arvind, and I used the area quantification method used by Prabhakar to calculate sqare kilometers. This [tutorial](https://developers.google.com/earth-engine/tutorial_forest_03) is also very useful."
   ]
  },
  {
   "cell_type": "code",
   "execution_count": 1,
   "metadata": {},
   "outputs": [
    {
     "data": {
      "text/html": [
       "<p>To authorize access needed by Earth Engine, open the following\n",
       "        URL in a web browser and follow the instructions:</p>\n",
       "        <p><a href=https://accounts.google.com/o/oauth2/auth?client_id=517222506229-vsmmajv00ul0bs7p89v5m89qs8eb9359.apps.googleusercontent.com&scope=https%3A%2F%2Fwww.googleapis.com%2Fauth%2Fearthengine+https%3A%2F%2Fwww.googleapis.com%2Fauth%2Fdevstorage.full_control&redirect_uri=urn%3Aietf%3Awg%3Aoauth%3A2.0%3Aoob&response_type=code&code_challenge=4dfmOmVlcgZNaj5cSweXjt--s6aVhZbBlhColDvGdmQ&code_challenge_method=S256>https://accounts.google.com/o/oauth2/auth?client_id=517222506229-vsmmajv00ul0bs7p89v5m89qs8eb9359.apps.googleusercontent.com&scope=https%3A%2F%2Fwww.googleapis.com%2Fauth%2Fearthengine+https%3A%2F%2Fwww.googleapis.com%2Fauth%2Fdevstorage.full_control&redirect_uri=urn%3Aietf%3Awg%3Aoauth%3A2.0%3Aoob&response_type=code&code_challenge=4dfmOmVlcgZNaj5cSweXjt--s6aVhZbBlhColDvGdmQ&code_challenge_method=S256</a></p>\n",
       "        <p>The authorization workflow will generate a code, which you\n",
       "        should paste in the box below</p>\n",
       "        "
      ],
      "text/plain": [
       "<IPython.core.display.HTML object>"
      ]
     },
     "metadata": {},
     "output_type": "display_data"
    },
    {
     "name": "stdout",
     "output_type": "stream",
     "text": [
      "Enter verification code: 4/2gFT70t1WJmULJkL4YpPiklmY5y2KEpyr9eIx3fLtuiHOWXXFKUZOug\n",
      "\n",
      "Successfully saved authorization token.\n"
     ]
    }
   ],
   "source": [
    "import ee\n",
    "import numpy as np\n",
    "from IPython.display import Image\n",
    "import matplotlib.pyplot as plt\n",
    "\n",
    "# Trigger the authentication flow.\n",
    "ee.Authenticate()"
   ]
  },
  {
   "cell_type": "code",
   "execution_count": 2,
   "metadata": {},
   "outputs": [],
   "source": [
    "ee.Initialize()"
   ]
  },
  {
   "cell_type": "markdown",
   "metadata": {},
   "source": [
    "# Prepare images of Salton Sea"
   ]
  },
  {
   "cell_type": "markdown",
   "metadata": {},
   "source": [
    "## Part 1: Collect the images - all during the month of May (same as time lapse)\n",
    "To do this, I use the same function we have been using, and added the month filter so that we can restrict it to just one month\n",
    "### Define the Function"
   ]
  },
  {
   "cell_type": "code",
   "execution_count": 19,
   "metadata": {},
   "outputs": [],
   "source": [
    "def get_images(path_list , row_list , satelite , start_date , end_date , max_cloud_percentage , months):\n",
    "    \n",
    "    # get image collection object\n",
    "    coll = ee.ImageCollection(satelite)\\\n",
    "        .filterDate(start_date, end_date)\\\n",
    "        .filter(ee.Filter.inList('WRS_PATH', path_list))\\\n",
    "        .filter(ee.Filter.inList('WRS_ROW', row_list))\\\n",
    "        .filter(ee.Filter.lt('CLOUD_COVER' , max_cloud_percentage))\\\n",
    "        .filter(ee.Filter.calendarRange(months[0],months[1],'month'))    # just may data\n",
    "    # get image_id's\n",
    "    image_ids = list( map( lambda x : x['id'] , coll.getInfo()['features'] ) ) \n",
    "    \n",
    "    # get image objects\n",
    "    images = list( map( lambda x: ee.Image(x) , image_ids ) )\n",
    "    \n",
    "    return images\n"
   ]
  },
  {
   "cell_type": "markdown",
   "metadata": {},
   "source": [
    "### Use the Function"
   ]
  },
  {
   "cell_type": "code",
   "execution_count": 147,
   "metadata": {},
   "outputs": [],
   "source": [
    "# fill in the information\n",
    "p = [39]                                    # path       \n",
    "r = [37]                                    # row \n",
    "sat = 'LANDSAT/LC08/C01/T1_TOA'             # use this satelite\n",
    "sd = '2013-05-01'                           # start date\n",
    "ed = '2020-05-01'                           # end date\n",
    "cc= 1                                       # max cloud cover percentage\n",
    "months = [5 , 5]                            # months [start, end]\n",
    "image_list = get_images(p, r, sat, sd, ed, cc , months)"
   ]
  },
  {
   "cell_type": "markdown",
   "metadata": {},
   "source": [
    "## Part 2: Reduce the images to just the lake. \n",
    "For now I simply hard code a bounding box.<dir> This would be a fantastic place to impliment Prabhakar's algorithm which snaps to the nearest lake and builds a bounding box around it"
   ]
  },
  {
   "cell_type": "code",
   "execution_count": 148,
   "metadata": {},
   "outputs": [],
   "source": [
    "lake_bounding_box = ([-116.21,33.58],\\\n",
    " [-116.19,33.03],\\\n",
    " [-115.36,33.04],\\\n",
    " [-115.40,33.65])\n",
    "\n",
    "lake_region = ee.Geometry.Rectangle([-116.21 , 33.03 , -115.36 , 33.65])"
   ]
  },
  {
   "cell_type": "code",
   "execution_count": 149,
   "metadata": {},
   "outputs": [],
   "source": [
    "# this function clip to the lake\n",
    "def clip(image):\n",
    "    lake_region = ee.Geometry.Rectangle([-116.21 , 33.03 , -115.36 , 33.65])\n",
    "    return image.clip(lake_region)"
   ]
  },
  {
   "cell_type": "code",
   "execution_count": 150,
   "metadata": {},
   "outputs": [],
   "source": [
    "# map the function to our image_list\n",
    "image_list = list(map(clip, image_list))"
   ]
  },
  {
   "cell_type": "markdown",
   "metadata": {},
   "source": [
    "## Part 3: Mask the water. \n",
    "To quantify the lake, I need a band where water is 1, and land is 0.  I will do this with a watermask"
   ]
  },
  {
   "cell_type": "code",
   "execution_count": 151,
   "metadata": {},
   "outputs": [],
   "source": [
    "# add ndwi and ndvi bands. For some reason, my NDWI is not working properly. (are they correct bands?)\n",
    "def addNDWI(image):\n",
    "    return image.addBands(image.normalizedDifference(['B5', 'B7']))\n",
    "\n",
    "\n",
    "def addNDVI(image):\n",
    "    return image.addBands(image.normalizedDifference(['B3', 'B5']))"
   ]
  },
  {
   "cell_type": "markdown",
   "metadata": {},
   "source": [
    "## Add NDVI, and display"
   ]
  },
  {
   "cell_type": "code",
   "execution_count": 152,
   "metadata": {},
   "outputs": [
    {
     "data": {
      "text/html": [
       "<img src=\"https://earthengine.googleapis.com/v1alpha/projects/earthengine-legacy/thumbnails/54f4245afe378d7b4398c383770a008a-b3a4ad684d7e5e91cfbd0ccb85aefb3c:getPixels\"/>"
      ],
      "text/plain": [
       "<IPython.core.display.Image object>"
      ]
     },
     "metadata": {},
     "output_type": "display_data"
    }
   ],
   "source": [
    "image_list = list(map(addNDVI, image_list))        # set as 'nd'\n",
    "parameters = {'min': -1.0, # value which is mapped to 0\n",
    "              'max': 1.0,  # value which is mapped to 255\n",
    "              'dimensions': 768,   # size of the image \n",
    "              'bands': ['nd'],     # The bands we select\n",
    "              'palette': ['green', 'white', 'blue'],  # only use a pallete when visualizing one.\n",
    "              #'region': lake_region\n",
    "}\n",
    "\n",
    "lake_image = image_list[0]\n",
    "display(Image(url = lake_image.getThumbUrl(parameters)))"
   ]
  },
  {
   "cell_type": "markdown",
   "metadata": {},
   "source": [
    "# Create a Water mask here\n",
    "To follow with this [tutorial](https://developers.google.com/earth-engine/tutorial_forest_03), we need a band which gives a value equal to 1 for (in the lake), and 0 elsewise. <br>\n",
    "I can see this expanding to a 1 for any location where land turns to water in future situations <dir>\n",
    "    \n",
    "    For now. This will be done using a water mask on the ndwi value. We will say use 0.01 as the cutoff value. Arvind provided the base code for creating the following watermask. I will then use the tutorial as well as some code provided to me by Prabhakar to calculate a numerical value for the water. "
   ]
  },
  {
   "cell_type": "markdown",
   "metadata": {},
   "source": [
    "## Part 1. May 2013"
   ]
  },
  {
   "cell_type": "code",
   "execution_count": 153,
   "metadata": {},
   "outputs": [
    {
     "data": {
      "text/html": [
       "<img src=\"https://earthengine.googleapis.com/v1alpha/projects/earthengine-legacy/thumbnails/1ef40718cb3e678a4d23f9b1a3d350e5-7a0557d795a8cd16d97d09e616f03354:getPixels\"/>"
      ],
      "text/plain": [
       "<IPython.core.display.Image object>"
      ]
     },
     "execution_count": 153,
     "metadata": {},
     "output_type": "execute_result"
    }
   ],
   "source": [
    "#Creating a water mask  based on the histogram shown earlier.\n",
    "waterthreshold = .1;\n",
    "image_ndvi = lake_image.select(['nd'])\n",
    "\n",
    "watermask = image_ndvi.gte(waterthreshold) #creating a water mask. Any NDWI greater than waterthreshold value is taken to be water.\n",
    "\n",
    "parameters = {'min': -0.5,\n",
    "              'max': 0.4,\n",
    "              'dimensions': 768,\n",
    "              'palette': ['brown', 'white', 'blue'],\n",
    "}\n",
    "Image(url = watermask.getThumbUrl(parameters))"
   ]
  },
  {
   "cell_type": "code",
   "execution_count": 154,
   "metadata": {},
   "outputs": [
    {
     "data": {
      "text/plain": [
       "(array([810.,   0.,   0.,   0.,   0.,   0.,   0.,   0.,   0., 169.]),\n",
       " array([0. , 0.1, 0.2, 0.3, 0.4, 0.5, 0.6, 0.7, 0.8, 0.9, 1. ]),\n",
       " <a list of 10 Patch objects>)"
      ]
     },
     "execution_count": 154,
     "metadata": {},
     "output_type": "execute_result"
    },
    {
     "data": {
      "image/png": "[encoded data removed]",
      "text/plain": [
       "<Figure size 432x288 with 1 Axes>"
      ]
     },
     "metadata": {
      "needs_background": "light"
     },
     "output_type": "display_data"
    }
   ],
   "source": [
    "#What is in the watermask?\n",
    "watermask_data = ee.List(watermask.sample(numPixels = 1000).reduceColumns(ee.Reducer.toList().repeat(1), ['nd']).get('list')).getInfo()\n",
    "plt.hist(watermask_data) # You can see that the mask is a contrast - greater than threshold is categorized as 1 and the rest as 0."
   ]
  },
  {
   "cell_type": "markdown",
   "metadata": {},
   "source": [
    "### Compute area"
   ]
  },
  {
   "cell_type": "markdown",
   "metadata": {},
   "source": [
    "To help compute areas, Earth Engine has the ee.Image.pixelArea() method which generates an image in which the value of each pixel is the pixel's area in square meters. Note that I am converting the javascript example to python here. The dictionary is now simply keywords."
   ]
  },
  {
   "cell_type": "code",
   "execution_count": 155,
   "metadata": {},
   "outputs": [],
   "source": [
    "'''\n",
    "I calculate the sum of the water in the region.\n",
    "Note that the pixel value is 1 where there is water and 0 where there is land. \n",
    "For this reason, a simple summation call will collect all the water pixels in the area. \n",
    "''' \n",
    "pixel_stats = watermask.reduceRegion(\\\n",
    "        reducer = ee.Reducer.sum(),\\\n",
    "        scale =  30\\\n",
    "        )"
   ]
  },
  {
   "cell_type": "code",
   "execution_count": 156,
   "metadata": {},
   "outputs": [
    {
     "name": "stdout",
     "output_type": "stream",
     "text": [
      "The amount of pixels representing water in this image are,  1013983\n"
     ]
    }
   ],
   "source": [
    "print( \"The amount of pixels representing water in this image are, \" , pixel_stats.getInfo()['nd'] )"
   ]
  },
  {
   "cell_type": "markdown",
   "metadata": {},
   "source": [
    "### To convert to square meters. i use the ee.Image.pixelArea() method\n",
    "This is a method Prabhakar used, and is also used in the tutorial"
   ]
  },
  {
   "cell_type": "code",
   "execution_count": 157,
   "metadata": {},
   "outputs": [],
   "source": [
    "watermask_square_meter = watermask.multiply(ee.Image.pixelArea()).divide(1000*1000)"
   ]
  },
  {
   "cell_type": "code",
   "execution_count": 158,
   "metadata": {},
   "outputs": [],
   "source": [
    "sqm_stats = watermask_square_meter.reduceRegion(\\\n",
    "        reducer = ee.Reducer.sum(),\\\n",
    "        scale =  30\\\n",
    "        )"
   ]
  },
  {
   "cell_type": "code",
   "execution_count": 159,
   "metadata": {},
   "outputs": [
    {
     "name": "stdout",
     "output_type": "stream",
     "text": [
      "The amount of square kilometers representing water in this image are,  913.039838474064\n"
     ]
    }
   ],
   "source": [
    "print( \"The amount of square kilometers representing water in this image are, \" , sqm_stats.getInfo()['nd'] )"
   ]
  },
  {
   "cell_type": "markdown",
   "metadata": {},
   "source": [
    "## Part 2. May 2018\n",
    "I recognize that this is a noisy estimate. However, I will use the last image and see if there has been any reduction."
   ]
  },
  {
   "cell_type": "code",
   "execution_count": 160,
   "metadata": {},
   "outputs": [],
   "source": [
    "last_lake_image = image_list[-1]"
   ]
  },
  {
   "cell_type": "code",
   "execution_count": 161,
   "metadata": {},
   "outputs": [
    {
     "data": {
      "text/html": [
       "<img src=\"https://earthengine.googleapis.com/v1alpha/projects/earthengine-legacy/thumbnails/59c0be05a0943e1be8815a896f4e7ff7-2e2303c78f53b39e67a59112aa92db01:getPixels\"/>"
      ],
      "text/plain": [
       "<IPython.core.display.Image object>"
      ]
     },
     "execution_count": 161,
     "metadata": {},
     "output_type": "execute_result"
    }
   ],
   "source": [
    "last_image_ndvi = last_lake_image.select(['nd'])\n",
    "last_watermask = last_image_ndvi.gte(waterthreshold) #creating a water mask. Any NDWI greater than waterthreshold value is taken to be water.\n",
    "\n",
    "parameters = {'min': -0.5,\n",
    "              'max': 0.4,\n",
    "              'dimensions': 768,\n",
    "              'palette': ['brown', 'white', 'blue'],\n",
    "}\n",
    "Image(url = last_watermask.getThumbUrl(parameters))"
   ]
  },
  {
   "cell_type": "code",
   "execution_count": 162,
   "metadata": {},
   "outputs": [
    {
     "name": "stdout",
     "output_type": "stream",
     "text": [
      "The amount of pixels representing water in this image are,  969300\n",
      "The amount of square kilometers representing water in this image are,  872.8058068843354\n"
     ]
    }
   ],
   "source": [
    "last_watermask_square_kmeter = last_watermask.multiply(ee.Image.pixelArea()).divide(1000*1000)\n",
    "\n",
    "last_pixel_stats = last_watermask.reduceRegion(\\\n",
    "        reducer = ee.Reducer.sum(),\\\n",
    "        scale =  30\\\n",
    "        )\n",
    "\n",
    "\n",
    "last_sqm_stats = last_watermask_square_kmeter.reduceRegion(\\\n",
    "        reducer = ee.Reducer.sum(),\\\n",
    "        scale =  30\\\n",
    "        )\n",
    "print( \"The amount of pixels representing water in this image are, \" , last_pixel_stats.getInfo()['nd'] )\n",
    "print( \"The amount of square kilometers representing water in this image are, \" , last_sqm_stats.getInfo()['nd'] )"
   ]
  },
  {
   "cell_type": "markdown",
   "metadata": {},
   "source": [
    "# Chart the water area yearly"
   ]
  },
  {
   "cell_type": "code",
   "execution_count": 163,
   "metadata": {},
   "outputs": [],
   "source": [
    "# Convert to imageCollection\n",
    "image_collection = ee.ImageCollection.fromImages(image_list)\n"
   ]
  },
  {
   "cell_type": "code",
   "execution_count": 164,
   "metadata": {},
   "outputs": [
    {
     "data": {
      "text/plain": [
       "dict_keys(['type', 'bands', 'version', 'id', 'properties'])"
      ]
     },
     "execution_count": 164,
     "metadata": {},
     "output_type": "execute_result"
    }
   ],
   "source": [
    "lake_image.getInfo().keys()"
   ]
  },
  {
   "cell_type": "code",
   "execution_count": 165,
   "metadata": {},
   "outputs": [],
   "source": [
    "year = int(lake_image.getInfo()['properties']['DATE_ACQUIRED'][:4])"
   ]
  },
  {
   "cell_type": "code",
   "execution_count": 166,
   "metadata": {},
   "outputs": [],
   "source": [
    "def get_year(image):\n",
    "    return int(image.getInfo()['properties']['DATE_ACQUIRED'][:4])"
   ]
  },
  {
   "cell_type": "code",
   "execution_count": 167,
   "metadata": {},
   "outputs": [],
   "source": [
    "def get_date_string(image):\n",
    "    return image.getInfo()['properties']['DATE_ACQUIRED']"
   ]
  },
  {
   "cell_type": "code",
   "execution_count": 168,
   "metadata": {},
   "outputs": [],
   "source": [
    "# I am gonna leave this for now and use it if I need it\n",
    "from datetime import date\n",
    "now = date(*map(int, lake_image.getInfo()['properties']['DATE_ACQUIRED'].split('-')))"
   ]
  },
  {
   "cell_type": "code",
   "execution_count": 169,
   "metadata": {},
   "outputs": [],
   "source": [
    "def get_km(image):\n",
    "    thresh = 0.1\n",
    "    image_ndvi = image.select(['nd'])\n",
    "    watermask = image_ndvi.gte(thresh) #creating a water mask. Any NDWI greater than waterthreshold value is taken to be water.\n",
    "    watermask_square_kmeter = watermask.multiply(ee.Image.pixelArea()).divide(1000*1000)\n",
    "    return watermask_square_kmeter.reduceRegion(\\\n",
    "        reducer = ee.Reducer.sum(),\\\n",
    "        scale =  30\\\n",
    "        ).getInfo()['nd']\n",
    "\n"
   ]
  },
  {
   "cell_type": "code",
   "execution_count": 170,
   "metadata": {},
   "outputs": [],
   "source": [
    "dates = list(map(get_date_string, image_list))"
   ]
  },
  {
   "cell_type": "code",
   "execution_count": 171,
   "metadata": {},
   "outputs": [],
   "source": [
    "years = list(map(get_year , image_list))"
   ]
  },
  {
   "cell_type": "code",
   "execution_count": 172,
   "metadata": {},
   "outputs": [],
   "source": [
    "kms = list(map(get_km, image_list))"
   ]
  },
  {
   "cell_type": "code",
   "execution_count": 177,
   "metadata": {},
   "outputs": [
    {
     "data": {
      "image/png": "[encoded data removed]",
      "text/plain": [
       "<Figure size 432x288 with 1 Axes>"
      ]
     },
     "metadata": {
      "needs_background": "light"
     },
     "output_type": "display_data"
    }
   ],
   "source": [
    "\n",
    "y_pos = list(range(len(dates)))\n",
    "\n",
    "\n",
    "plt.bar(y_pos, kms, align='center', alpha=0.9)\n",
    "plt.xticks(y_pos, years)\n",
    "plt.ylim(800, 950)\n",
    "plt.ylabel('Kilometers of Water')\n",
    "plt.xlabel('Date')\n",
    "plt.title('Salton Sea In May')\n",
    "\n",
    "plt.show()"
   ]
  }
 ],
 "metadata": {
  "kernelspec": {
   "display_name": "earth_analytics",
   "language": "python",
   "name": "earth_analytics"
  },
  "language_info": {
   "codemirror_mode": {
    "name": "ipython",
    "version": 3
   },
   "file_extension": ".py",
   "mimetype": "text/x-python",
   "name": "python",
   "nbconvert_exporter": "python",
   "pygments_lexer": "ipython3",
   "version": "3.7.7"
  }
 },
 "nbformat": 4,
 "nbformat_minor": 4
}
